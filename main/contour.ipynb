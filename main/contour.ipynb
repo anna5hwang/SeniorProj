{
 "cells": [
  {
   "cell_type": "code",
   "execution_count": 5,
   "metadata": {},
   "outputs": [],
   "source": [
    "%matplotlib inline\n",
    "\n",
    "import numpy as np\n",
    "from numpy import random, nanmax, argmax, unravel_index\n",
    "import cv2\n",
    "import matplotlib\n",
    "import matplotlib.pyplot as plt\n",
    "from mpl_toolkits.mplot3d import Axes3D\n",
    "\n",
    "class Contour():\n",
    "    def __init__(contour):\n",
    "        self.contour = contour\n",
    "        self.perimeter = None\n",
    "        self.area = None\n",
    "        self.diameter = None\n",
    "        self.convexHull = None\n",
    "        self.cha = None\n",
    "    \n",
    "    @property\n",
    "    def calc_diameter(contour):\n",
    "        if self.diameter is None:\n",
    "            row_num = len(contour)\n",
    "            # Unravels contour array to reshape it from row_num x 1 to row_num x 2\n",
    "            a = np.reshape(np.ravel(contour), (row_num, 2))\n",
    "            # Calculates a row_num x row_num matrix with the distances between all points\n",
    "            d = np.sqrt(((a[:,None]-a[None,:])**2).sum(2))\n",
    "            self.diameter = np.amax(d)\n",
    "        return self.diameter;\n",
    "    \n",
    "    @property\n",
    "    def calc_perimeter(contour):\n",
    "        if self.perimeter is None:\n",
    "            self.perimeter = cv2.arcLength(contour, True)\n",
    "        return self.perimeter\n",
    "\n",
    "    @property\n",
    "    def calc_area(contour):\n",
    "        if self.area is None:\n",
    "            self.area = cv2.contourArea(contour)\n",
    "        return self.area\n",
    "    \n",
    "    @property \n",
    "    def calc_convexHull(contour):\n",
    "        if self.convexHull is None:\n",
    "            hull = cv2.convexHull(contour)\n",
    "            self.convexHull = cv2.contourArea(hull)\n",
    "        return self.convexHull;\n",
    "    \n",
    "    @property\n",
    "    def calc_chaRatio(contour):\n",
    "        if self.diameter is None:\n",
    "            cha = self.area / self.convexHull\n",
    "        return cha;"
   ]
  }
 ],
 "metadata": {
  "kernelspec": {
   "display_name": "Python 3",
   "language": "python",
   "name": "python3"
  },
  "language_info": {
   "codemirror_mode": {
    "name": "ipython",
    "version": 3
   },
   "file_extension": ".py",
   "mimetype": "text/x-python",
   "name": "python",
   "nbconvert_exporter": "python",
   "pygments_lexer": "ipython3",
   "version": "3.7.4"
  }
 },
 "nbformat": 4,
 "nbformat_minor": 2
}
